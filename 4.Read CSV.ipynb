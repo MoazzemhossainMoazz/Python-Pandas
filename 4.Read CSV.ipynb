{
 "cells": [
  {
   "cell_type": "code",
   "execution_count": 1,
   "id": "09184026",
   "metadata": {},
   "outputs": [],
   "source": [
    "import pandas as pd"
   ]
  },
  {
   "cell_type": "code",
   "execution_count": 2,
   "id": "1515d80b",
   "metadata": {},
   "outputs": [
    {
     "name": "stdout",
     "output_type": "stream",
     "text": [
      "   Duration  Pulse    Maxpulse    Calories\n",
      "0        60  110.0  130.000000  409.100000\n",
      "1        60  117.0  145.000000  479.000000\n",
      "2        60  103.0  135.000000  340.000000\n",
      "3        60  103.0  141.666667  340.266667\n",
      "4        60   99.5  144.166667  305.716667\n",
      "5        60   96.0  146.666667  271.166667\n",
      "6        60   92.5  149.166667  236.616667\n"
     ]
    }
   ],
   "source": [
    "df = pd.read_csv('data.csv')\n",
    "print(df.to_string())"
   ]
  },
  {
   "cell_type": "code",
   "execution_count": 3,
   "id": "2a3a3ec5",
   "metadata": {},
   "outputs": [
    {
     "name": "stdout",
     "output_type": "stream",
     "text": [
      "   Duration  Pulse    Maxpulse    Calories\n",
      "0        60  110.0  130.000000  409.100000\n",
      "1        60  117.0  145.000000  479.000000\n",
      "2        60  103.0  135.000000  340.000000\n",
      "3        60  103.0  141.666667  340.266667\n",
      "4        60   99.5  144.166667  305.716667\n",
      "5        60   96.0  146.666667  271.166667\n",
      "6        60   92.5  149.166667  236.616667\n"
     ]
    }
   ],
   "source": [
    "df = pd.read_csv('data.csv')\n",
    "print(df)"
   ]
  },
  {
   "cell_type": "code",
   "execution_count": 4,
   "id": "b1530683",
   "metadata": {},
   "outputs": [
    {
     "name": "stdout",
     "output_type": "stream",
     "text": [
      "60\n"
     ]
    }
   ],
   "source": [
    "print(pd.options.display.max_rows)"
   ]
  },
  {
   "cell_type": "code",
   "execution_count": 5,
   "id": "53238d00",
   "metadata": {},
   "outputs": [
    {
     "name": "stdout",
     "output_type": "stream",
     "text": [
      "   Duration  Pulse    Maxpulse    Calories\n",
      "0        60  110.0  130.000000  409.100000\n",
      "1        60  117.0  145.000000  479.000000\n",
      "2        60  103.0  135.000000  340.000000\n",
      "3        60  103.0  141.666667  340.266667\n",
      "4        60   99.5  144.166667  305.716667\n",
      "5        60   96.0  146.666667  271.166667\n",
      "6        60   92.5  149.166667  236.616667\n"
     ]
    }
   ],
   "source": [
    "pd.options.display.max_rows = 9999\n",
    "df = pd.read_csv('data.csv')\n",
    "print(df)"
   ]
  },
  {
   "cell_type": "code",
   "execution_count": null,
   "id": "d84bfba1",
   "metadata": {},
   "outputs": [],
   "source": []
  }
 ],
 "metadata": {
  "kernelspec": {
   "display_name": "Python 3 (ipykernel)",
   "language": "python",
   "name": "python3"
  },
  "language_info": {
   "codemirror_mode": {
    "name": "ipython",
    "version": 3
   },
   "file_extension": ".py",
   "mimetype": "text/x-python",
   "name": "python",
   "nbconvert_exporter": "python",
   "pygments_lexer": "ipython3",
   "version": "3.10.9"
  }
 },
 "nbformat": 4,
 "nbformat_minor": 5
}
