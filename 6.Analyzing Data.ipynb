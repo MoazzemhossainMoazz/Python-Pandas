{
 "cells": [
  {
   "cell_type": "code",
   "execution_count": 1,
   "id": "9d02f58c",
   "metadata": {},
   "outputs": [],
   "source": [
    "import pandas as pd"
   ]
  },
  {
   "cell_type": "code",
   "execution_count": 4,
   "id": "3c976d7b",
   "metadata": {},
   "outputs": [
    {
     "name": "stdout",
     "output_type": "stream",
     "text": [
      "   Duration  Pulse    Maxpulse    Calories\n",
      "0        60  110.0  130.000000  409.100000\n",
      "1        60  117.0  145.000000  479.000000\n",
      "2        60  103.0  135.000000  340.000000\n",
      "3        60  103.0  141.666667  340.266667\n",
      "4        60   99.5  144.166667  305.716667\n",
      "5        60   96.0  146.666667  271.166667\n",
      "6        60   92.5  149.166667  236.616667\n"
     ]
    }
   ],
   "source": [
    "df = pd.read_csv('data.csv')\n",
    "print(df.head(10))"
   ]
  },
  {
   "cell_type": "code",
   "execution_count": 6,
   "id": "91e70678",
   "metadata": {},
   "outputs": [
    {
     "name": "stdout",
     "output_type": "stream",
     "text": [
      "   Duration  Pulse    Maxpulse    Calories\n",
      "0        60  110.0  130.000000  409.100000\n",
      "1        60  117.0  145.000000  479.000000\n",
      "2        60  103.0  135.000000  340.000000\n",
      "3        60  103.0  141.666667  340.266667\n",
      "4        60   99.5  144.166667  305.716667\n"
     ]
    }
   ],
   "source": [
    "df = pd.read_csv('data.csv')\n",
    "print(df.head()) #the head() method will return the top 5 rows"
   ]
  },
  {
   "cell_type": "code",
   "execution_count": 8,
   "id": "a56ab937",
   "metadata": {},
   "outputs": [
    {
     "name": "stdout",
     "output_type": "stream",
     "text": [
      "   Duration  Pulse    Maxpulse    Calories\n",
      "2        60  103.0  135.000000  340.000000\n",
      "3        60  103.0  141.666667  340.266667\n",
      "4        60   99.5  144.166667  305.716667\n",
      "5        60   96.0  146.666667  271.166667\n",
      "6        60   92.5  149.166667  236.616667\n"
     ]
    }
   ],
   "source": [
    "print(df.tail()) #the tail() method will return last 5 rows"
   ]
  },
  {
   "cell_type": "code",
   "execution_count": 9,
   "id": "327f8160",
   "metadata": {},
   "outputs": [
    {
     "name": "stdout",
     "output_type": "stream",
     "text": [
      "<class 'pandas.core.frame.DataFrame'>\n",
      "RangeIndex: 7 entries, 0 to 6\n",
      "Data columns (total 4 columns):\n",
      " #   Column    Non-Null Count  Dtype  \n",
      "---  ------    --------------  -----  \n",
      " 0   Duration  7 non-null      int64  \n",
      " 1   Pulse     7 non-null      float64\n",
      " 2   Maxpulse  7 non-null      float64\n",
      " 3   Calories  7 non-null      float64\n",
      "dtypes: float64(3), int64(1)\n",
      "memory usage: 352.0 bytes\n",
      "None\n"
     ]
    }
   ],
   "source": [
    "print(df.info())"
   ]
  },
  {
   "cell_type": "code",
   "execution_count": null,
   "id": "2945d882",
   "metadata": {},
   "outputs": [],
   "source": []
  }
 ],
 "metadata": {
  "kernelspec": {
   "display_name": "Python 3 (ipykernel)",
   "language": "python",
   "name": "python3"
  },
  "language_info": {
   "codemirror_mode": {
    "name": "ipython",
    "version": 3
   },
   "file_extension": ".py",
   "mimetype": "text/x-python",
   "name": "python",
   "nbconvert_exporter": "python",
   "pygments_lexer": "ipython3",
   "version": "3.10.9"
  }
 },
 "nbformat": 4,
 "nbformat_minor": 5
}
